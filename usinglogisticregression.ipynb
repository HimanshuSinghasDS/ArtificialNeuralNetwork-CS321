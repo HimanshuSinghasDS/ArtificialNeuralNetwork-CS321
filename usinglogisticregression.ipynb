{
 "cells": [
  {
   "cell_type": "code",
   "execution_count": 3,
   "id": "528f269d-2e19-4969-b487-57dbc1f6a5b0",
   "metadata": {},
   "outputs": [],
   "source": [
    "import numpy as np"
   ]
  },
  {
   "cell_type": "code",
   "execution_count": 4,
   "id": "06904daf-5dad-4271-8c7e-de16cff2ffc4",
   "metadata": {},
   "outputs": [],
   "source": [
    "# Sigmoid function\n",
    "def sigmoid(z):\n",
    "    return 1 / (1 + np.exp(-z))"
   ]
  },
  {
   "cell_type": "code",
   "execution_count": 5,
   "id": "c6f9f820-701a-4cef-8b5e-7922f0e183f7",
   "metadata": {},
   "outputs": [],
   "source": [
    "# Logistic Regression model\n",
    "class LogisticRegression:\n",
    "    def __init__(self, learning_rate=0.01, num_iterations=50):\n",
    "        self.learning_rate = learning_rate\n",
    "        self.num_iterations = num_iterations\n",
    "    \n",
    "    def fit(self, X, y):\n",
    "        # Initialize parameters\n",
    "        self.m, self.n = X.shape\n",
    "        self.W = np.zeros(self.n)\n",
    "        self.b = 0\n",
    "        self.X = X\n",
    "        self.y = y\n",
    "        \n",
    "        # Gradient Descent\n",
    "        for _ in range(self.num_iterations):\n",
    "            self.update_weights()\n",
    "    \n",
    "    def update_weights(self):\n",
    "        # Linear model\n",
    "        linear_model = np.dot(self.X, self.W) + self.b\n",
    "        # Apply sigmoid function\n",
    "        y_pred = sigmoid(linear_model)\n",
    "        \n",
    "        # Calculate gradients\n",
    "        dW = (1 / self.m) * np.dot(self.X.T, (y_pred - self.y))\n",
    "        db = (1 / self.m) * np.sum(y_pred - self.y)\n",
    "        \n",
    "        # Update weights\n",
    "        self.W -= self.learning_rate * dW\n",
    "        self.b -= self.learning_rate * db\n",
    "    \n",
    "    def predict(self, X):\n",
    "        linear_model = np.dot(X, self.W) + self.b\n",
    "        y_pred = sigmoid(linear_model)\n",
    "        y_pred_class = [1 if i > 0.5 else 0 for i in y_pred]\n",
    "        return np.array(y_pred_class)\n"
   ]
  },
  {
   "cell_type": "code",
   "execution_count": 9,
   "id": "a3368fae-8223-4168-88f4-59d3702be01e",
   "metadata": {},
   "outputs": [],
   "source": [
    "marks = np.random.normal(45,15,(100,10))"
   ]
  },
  {
   "cell_type": "code",
   "execution_count": 10,
   "id": "ea7fc401-acc7-4e77-872b-cb84aab7eab4",
   "metadata": {},
   "outputs": [],
   "source": [
    "marks = np.clip(marks,5,95).astype(int)"
   ]
  },
  {
   "cell_type": "code",
   "execution_count": 15,
   "id": "e74afe14-9b80-4fec-82f0-e7fe2b31d8b0",
   "metadata": {},
   "outputs": [
    {
     "data": {
      "text/plain": [
       "array([[42, 51, 48, 31, 37, 58, 73, 15, 27, 31],\n",
       "       [36, 49, 37, 34, 56, 54, 62, 71, 64, 45],\n",
       "       [19, 61, 29, 42, 38, 35, 40, 41, 35, 68],\n",
       "       [55, 52, 75, 17, 15, 32, 49, 37, 50, 62],\n",
       "       [43, 49, 40, 18, 49, 51, 60, 43, 67, 66],\n",
       "       [38, 47, 16, 37, 39, 34, 47, 56, 38, 38],\n",
       "       [36, 44, 49, 60, 45, 22, 36, 43, 71, 56],\n",
       "       [51, 52, 51, 43, 28, 27, 48, 50, 51, 62],\n",
       "       [13, 66, 66, 27, 33, 47, 23, 16, 50, 43],\n",
       "       [55, 49, 38, 47, 57, 40, 53, 57, 33, 36],\n",
       "       [40, 42, 30, 58, 40, 55, 35, 32, 46, 45],\n",
       "       [36, 69, 40, 49, 41, 47, 43, 33, 33, 30],\n",
       "       [49, 58, 45, 28, 25, 41, 59, 56, 62, 29],\n",
       "       [56, 51, 43, 61, 55, 67, 27, 34, 32, 59],\n",
       "       [42, 18, 55, 41, 19, 35, 71, 60, 47, 29],\n",
       "       [75, 56, 60, 35, 66, 43, 52, 40, 47, 61],\n",
       "       [87, 42, 39, 23, 53, 39, 46, 46, 57, 72],\n",
       "       [41, 38, 55, 63, 56, 30, 51, 66, 54, 58],\n",
       "       [53, 42, 42, 43, 32, 27, 52, 39, 39, 31],\n",
       "       [53, 77, 46, 48, 39, 59, 66, 37, 34, 58],\n",
       "       [33, 30, 83, 16, 28, 57, 53, 23, 41, 46],\n",
       "       [47, 66, 48, 35, 55, 44, 27, 46, 26, 25],\n",
       "       [38, 40, 26, 32, 27, 24, 75, 63, 40, 39],\n",
       "       [46, 45, 48, 46, 55, 46, 40, 45, 47, 53],\n",
       "       [43, 12, 55, 47, 78, 36, 23, 37, 64, 47],\n",
       "       [87, 22, 65, 55, 52, 74, 42, 65, 37, 44],\n",
       "       [75, 37, 37, 61,  8, 40, 30, 24, 42, 35],\n",
       "       [45, 20, 25, 20, 67, 39, 59, 66, 41, 43],\n",
       "       [47, 58, 59, 40, 50, 75, 62, 53, 48, 46],\n",
       "       [44, 31, 56, 61, 60, 19, 54, 67, 58, 36],\n",
       "       [28, 39, 10, 48, 20, 63, 58, 35, 38, 56],\n",
       "       [43, 57, 64, 54, 38, 44, 54, 50, 42, 21],\n",
       "       [30, 52, 67, 58, 41, 46, 21, 37, 48, 29],\n",
       "       [47, 54, 42, 43, 21, 31, 30, 39, 29, 36],\n",
       "       [34, 33, 20, 58, 32, 57, 43, 68, 58, 59],\n",
       "       [43, 43, 46, 68, 49, 67, 63, 62, 62, 60],\n",
       "       [42, 47, 38, 55, 36, 52, 35, 69, 44, 24],\n",
       "       [48, 41, 35, 31, 36, 38, 37, 33, 60, 72],\n",
       "       [46, 54, 52, 41, 24, 30, 46, 26, 69, 48],\n",
       "       [65, 36, 46, 52, 30, 58, 56, 42, 51, 58],\n",
       "       [34, 23, 36, 46, 39, 36, 52, 58, 63, 72],\n",
       "       [56, 29, 72, 24, 56, 24, 40, 42, 33, 32],\n",
       "       [44, 72, 60, 25,  7, 54, 43, 55, 61, 20],\n",
       "       [25, 60, 45, 53, 64, 59, 51, 39, 86, 53],\n",
       "       [62, 56, 64, 47, 53, 61, 54, 82, 48, 72],\n",
       "       [17, 17, 63, 25, 44, 38, 51, 68, 49, 51],\n",
       "       [19, 55, 42, 79, 71, 38, 37, 29, 43, 17],\n",
       "       [75, 37, 38, 43, 34, 33, 53, 52, 28, 53],\n",
       "       [27, 29, 47, 30, 36, 52, 36, 43, 37, 39],\n",
       "       [38, 43, 27, 36, 22, 36, 26, 50, 67,  5],\n",
       "       [23, 21, 55, 63, 59, 43, 40, 19, 58, 37],\n",
       "       [13, 34, 50, 24, 61, 56, 31, 40, 53, 50],\n",
       "       [42, 29, 50, 30, 51, 20, 45, 48, 22, 38],\n",
       "       [40, 26, 69, 46, 54,  6, 35, 42, 36, 40],\n",
       "       [59, 42, 36, 18, 32, 67, 42, 48, 35, 73],\n",
       "       [37, 53, 69, 45, 52, 35, 37, 64, 55, 43],\n",
       "       [22, 46, 44, 25, 51, 56, 54, 95, 36, 49],\n",
       "       [32, 47, 34, 20, 13, 26, 42, 52, 22, 44],\n",
       "       [41, 42, 44, 48, 46, 30, 39, 29, 58, 33],\n",
       "       [43, 41, 47, 54, 40, 51,  5, 47, 48, 29],\n",
       "       [57, 38, 40, 58, 56, 55, 56, 29, 47, 61],\n",
       "       [64, 68, 35, 56, 40, 54, 39, 30, 37, 46],\n",
       "       [40, 17, 48, 47, 45, 72, 25, 39, 47, 52],\n",
       "       [19, 43, 16, 49, 48, 54, 48, 51, 80, 52],\n",
       "       [41, 49, 53, 37, 41, 37, 51, 43, 26, 56],\n",
       "       [29, 38, 36, 32, 75, 26, 33, 58, 60, 47],\n",
       "       [45, 73, 48, 43, 52, 46, 36, 45, 21, 64],\n",
       "       [19, 37, 29, 52, 56, 33, 44, 71, 42, 29],\n",
       "       [24, 16, 28, 34, 56, 64, 36, 41, 51, 52],\n",
       "       [44, 49, 42, 56, 55, 55, 65, 24, 29, 60],\n",
       "       [50, 41, 50, 43, 30, 45, 63, 57, 22, 12],\n",
       "       [37, 25, 29, 19, 38, 41, 47, 74, 39, 51],\n",
       "       [40, 56, 41, 35, 48, 24, 61, 57, 52, 65],\n",
       "       [24, 22, 48, 24, 52, 37, 41, 42, 41, 26],\n",
       "       [27, 70, 71, 38, 40, 61, 40, 42, 60, 65],\n",
       "       [41, 53, 55, 47, 24, 53, 27, 56, 58, 32],\n",
       "       [80, 11, 43, 58, 59, 15, 51, 56, 55, 27],\n",
       "       [47, 28, 44, 20, 38, 45, 61, 36, 25, 63],\n",
       "       [56, 24, 42, 28, 74, 72, 59, 19, 81, 50],\n",
       "       [38, 55, 67, 35, 58, 42, 42, 61, 65, 51],\n",
       "       [62,  5, 87, 35, 34, 70, 51, 38, 32, 58],\n",
       "       [40, 41, 44, 50, 20, 54, 52, 57, 40, 27],\n",
       "       [29, 57, 52, 24, 59, 43, 36, 33, 32, 48],\n",
       "       [52, 49, 42, 53, 60, 52, 59, 43, 70, 58],\n",
       "       [49, 66, 43, 49, 44, 28, 26, 51, 59, 44],\n",
       "       [46, 13, 37, 32, 51, 54, 55, 36, 57, 41],\n",
       "       [28, 24, 58, 47, 41, 26, 38, 33, 28, 44],\n",
       "       [35, 39, 74, 31, 45, 41, 51, 32, 27, 30],\n",
       "       [48, 31, 59, 51, 35, 71, 58, 37, 38, 46],\n",
       "       [51, 50, 56, 63, 69, 46, 53, 42, 23, 53],\n",
       "       [11, 44, 48, 19, 60, 40, 65, 28, 48, 29],\n",
       "       [70, 57, 34, 50, 58, 43, 46, 27, 17, 49],\n",
       "       [36, 31, 52, 65, 46, 64, 55, 42, 49, 47],\n",
       "       [46, 15, 60, 65, 38, 43, 50, 43, 51, 40],\n",
       "       [55, 48, 57, 33, 40, 43, 65, 58, 50, 61],\n",
       "       [42, 32, 47, 45, 18, 37, 43, 38, 56, 39],\n",
       "       [36, 54, 53, 46, 48, 74, 19, 47, 35, 59],\n",
       "       [47, 72, 79, 72, 47, 61, 44,  7, 26, 50],\n",
       "       [25, 41, 13, 41, 28, 36, 50, 46, 44, 23],\n",
       "       [72, 14, 48, 45, 61, 39, 31, 39, 50, 45]])"
      ]
     },
     "execution_count": 15,
     "metadata": {},
     "output_type": "execute_result"
    }
   ],
   "source": [
    "marks"
   ]
  },
  {
   "cell_type": "code",
   "execution_count": 11,
   "id": "097ca7c7-2b2f-4595-aac7-1e723db4101f",
   "metadata": {},
   "outputs": [],
   "source": [
    "result = np.random.randint(0,2,100)"
   ]
  },
  {
   "cell_type": "code",
   "execution_count": 12,
   "id": "e6326870-ad9f-41bc-bb97-1ca022140dc8",
   "metadata": {},
   "outputs": [
    {
     "name": "stdout",
     "output_type": "stream",
     "text": [
      "Predictions: [0 0 0 0 1 0 0 0 1 0 0 1 0 0 0 0 0 0 0 0 1 0 0 0 0 0 0 0 0 1 0 0 0 0 0 0 0\n",
      " 0 0 0 0 0 0 0 0 0 1 0 0 0 0 0 0 0 0 0 0 0 0 0 0 0 0 0 0 0 0 0 0 0 0 0 0 0\n",
      " 0 0 0 1 0 0 1 0 0 0 0 0 0 0 1 0 0 0 0 0 0 0 0 0 0 0]\n"
     ]
    },
    {
     "name": "stderr",
     "output_type": "stream",
     "text": [
      "C:\\Users\\himan\\AppData\\Local\\Temp\\ipykernel_69660\\291134960.py:3: RuntimeWarning: overflow encountered in exp\n",
      "  return 1 / (1 + np.exp(-z))\n"
     ]
    }
   ],
   "source": [
    "# Example usage\n",
    "if __name__ == \"__main__\":\n",
    "    # Sample data\n",
    "    np.random.seed(0)\n",
    "    #X = np.random.rand(100, 10)  # 100 students, 10 subjects (features)\n",
    "    X = marks\n",
    "    #y = np.random.randint(0, 2, 100)  # Binary target (0 or 1) for each student\n",
    "    y = result\n",
    "    # Create and train model\n",
    "    model = LogisticRegression(learning_rate=0.1, num_iterations=1000)\n",
    "    model.fit(X,y)\n",
    "\n",
    "    \n",
    "    # Predict\n",
    "    predictions = model.predict(X)\n",
    "    print(\"Predictions:\", predictions)\n"
   ]
  },
  {
   "cell_type": "code",
   "execution_count": 13,
   "id": "90571199-789a-43f4-9b56-1b2dc6797ad4",
   "metadata": {},
   "outputs": [
    {
     "data": {
      "text/plain": [
       "array([0, 1, 0, 1, 1, 1, 0, 1, 1, 0, 0, 0, 0, 1, 1, 0, 0, 1, 0, 0, 1, 1,\n",
       "       0, 0, 1, 0, 1, 1, 0, 1, 1, 0, 1, 0, 0, 1, 0, 1, 0, 1, 1, 0, 0, 0,\n",
       "       0, 1, 1, 0, 1, 1, 1, 0, 1, 1, 1, 0, 0, 0, 0, 1, 0, 1, 1, 0, 1, 0,\n",
       "       0, 0, 1, 1, 1, 1, 0, 1, 1, 0, 0, 1, 0, 0, 1, 0, 0, 1, 0, 1, 1, 1,\n",
       "       1, 1, 1, 1, 0, 1, 1, 0, 0, 1, 1, 0], dtype=int32)"
      ]
     },
     "execution_count": 13,
     "metadata": {},
     "output_type": "execute_result"
    }
   ],
   "source": [
    "y"
   ]
  },
  {
   "cell_type": "code",
   "execution_count": 14,
   "id": "6f4707dc-c924-4caf-a52e-4a3dbc8f128f",
   "metadata": {},
   "outputs": [
    {
     "name": "stdout",
     "output_type": "stream",
     "text": [
      "Accuracy: 0.54\n"
     ]
    }
   ],
   "source": [
    "def accuracy(y_true, y_pred):\n",
    "    accuracy = np.sum(y_true == y_pred) / len(y_true)\n",
    "    return accuracy\n",
    "\n",
    "# Calculate accuracy\n",
    "accuracy_value = accuracy(y, predictions)\n",
    "print(\"Accuracy:\", accuracy_value)"
   ]
  },
  {
   "cell_type": "code",
   "execution_count": null,
   "id": "7f83f602-9bf2-4ee9-80e8-a6bafe34abf1",
   "metadata": {},
   "outputs": [],
   "source": []
  }
 ],
 "metadata": {
  "kernelspec": {
   "display_name": "Python 3 (ipykernel)",
   "language": "python",
   "name": "python3"
  },
  "language_info": {
   "codemirror_mode": {
    "name": "ipython",
    "version": 3
   },
   "file_extension": ".py",
   "mimetype": "text/x-python",
   "name": "python",
   "nbconvert_exporter": "python",
   "pygments_lexer": "ipython3",
   "version": "3.12.4"
  }
 },
 "nbformat": 4,
 "nbformat_minor": 5
}
