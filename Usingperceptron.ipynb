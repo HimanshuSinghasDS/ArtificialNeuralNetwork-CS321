{
 "cells": [
  {
   "cell_type": "code",
   "execution_count": 45,
   "id": "5fe088ad-f17f-474b-b9ed-61400add1de9",
   "metadata": {},
   "outputs": [],
   "source": [
    "import pandas as pd\n",
    "import numpy as np\n",
    "import matplotlib.pyplot as plt"
   ]
  },
  {
   "cell_type": "code",
   "execution_count": 46,
   "id": "4823086b-6fbb-4ab6-bedf-09a60589058d",
   "metadata": {},
   "outputs": [],
   "source": [
    "mean = 45\n",
    "std = 15\n",
    "x = np.random.normal(mean,std,10000)"
   ]
  },
  {
   "cell_type": "code",
   "execution_count": 47,
   "id": "915e6004-94c0-4ecd-abed-b82accd51d2b",
   "metadata": {},
   "outputs": [
    {
     "data": {
      "text/plain": [
       "array([43.62849881, 43.81449497, 28.44046503, ..., 47.07629   ,\n",
       "       49.91993697, 56.62676636])"
      ]
     },
     "execution_count": 47,
     "metadata": {},
     "output_type": "execute_result"
    }
   ],
   "source": [
    "x"
   ]
  },
  {
   "cell_type": "code",
   "execution_count": 48,
   "id": "92b2d9ec-0f89-44ad-b7d9-ad5a0a9f7611",
   "metadata": {},
   "outputs": [
    {
     "data": {
      "image/png": "[encoded data removed]",
      "text/plain": [
       "<Figure size 640x480 with 1 Axes>"
      ]
     },
     "metadata": {},
     "output_type": "display_data"
    }
   ],
   "source": [
    "plt.hist(x,bins=100)\n",
    "plt.show()"
   ]
  },
  {
   "cell_type": "code",
   "execution_count": 49,
   "id": "bcd5fa2b-06ce-4dbc-81ad-9774e1e40860",
   "metadata": {},
   "outputs": [],
   "source": [
    "marks = np.random.normal(mean,std,(10000,10))"
   ]
  },
  {
   "cell_type": "code",
   "execution_count": 50,
   "id": "670d6330-b519-47e3-bc2c-e915142460d9",
   "metadata": {},
   "outputs": [],
   "source": [
    "marks = np.clip(marks,5,95).astype(int)"
   ]
  },
  {
   "cell_type": "code",
   "execution_count": 51,
   "id": "be24c902-655f-4955-a2b5-f2d92c0698ab",
   "metadata": {},
   "outputs": [],
   "source": [
    "df = pd.DataFrame(marks, columns = [f'Sub-{i+1}' for i in range(10)])"
   ]
  },
  {
   "cell_type": "code",
   "execution_count": 52,
   "id": "f0095167-2634-43d9-943b-ddf4fb27b318",
   "metadata": {},
   "outputs": [
    {
     "data": {
      "text/html": [
       "<div>\n",
       "<style scoped>\n",
       "    .dataframe tbody tr th:only-of-type {\n",
       "        vertical-align: middle;\n",
       "    }\n",
       "\n",
       "    .dataframe tbody tr th {\n",
       "        vertical-align: top;\n",
       "    }\n",
       "\n",
       "    .dataframe thead th {\n",
       "        text-align: right;\n",
       "    }\n",
       "</style>\n",
       "<table border=\"1\" class=\"dataframe\">\n",
       "  <thead>\n",
       "    <tr style=\"text-align: right;\">\n",
       "      <th></th>\n",
       "      <th>Sub-1</th>\n",
       "      <th>Sub-2</th>\n",
       "      <th>Sub-3</th>\n",
       "      <th>Sub-4</th>\n",
       "      <th>Sub-5</th>\n",
       "      <th>Sub-6</th>\n",
       "      <th>Sub-7</th>\n",
       "      <th>Sub-8</th>\n",
       "      <th>Sub-9</th>\n",
       "      <th>Sub-10</th>\n",
       "    </tr>\n",
       "  </thead>\n",
       "  <tbody>\n",
       "    <tr>\n",
       "      <th>0</th>\n",
       "      <td>53</td>\n",
       "      <td>54</td>\n",
       "      <td>40</td>\n",
       "      <td>70</td>\n",
       "      <td>24</td>\n",
       "      <td>72</td>\n",
       "      <td>5</td>\n",
       "      <td>36</td>\n",
       "      <td>57</td>\n",
       "      <td>49</td>\n",
       "    </tr>\n",
       "    <tr>\n",
       "      <th>1</th>\n",
       "      <td>32</td>\n",
       "      <td>36</td>\n",
       "      <td>47</td>\n",
       "      <td>17</td>\n",
       "      <td>50</td>\n",
       "      <td>31</td>\n",
       "      <td>38</td>\n",
       "      <td>13</td>\n",
       "      <td>10</td>\n",
       "      <td>23</td>\n",
       "    </tr>\n",
       "    <tr>\n",
       "      <th>2</th>\n",
       "      <td>60</td>\n",
       "      <td>13</td>\n",
       "      <td>19</td>\n",
       "      <td>36</td>\n",
       "      <td>44</td>\n",
       "      <td>58</td>\n",
       "      <td>49</td>\n",
       "      <td>42</td>\n",
       "      <td>62</td>\n",
       "      <td>69</td>\n",
       "    </tr>\n",
       "    <tr>\n",
       "      <th>3</th>\n",
       "      <td>26</td>\n",
       "      <td>53</td>\n",
       "      <td>48</td>\n",
       "      <td>39</td>\n",
       "      <td>38</td>\n",
       "      <td>17</td>\n",
       "      <td>55</td>\n",
       "      <td>48</td>\n",
       "      <td>16</td>\n",
       "      <td>37</td>\n",
       "    </tr>\n",
       "    <tr>\n",
       "      <th>4</th>\n",
       "      <td>59</td>\n",
       "      <td>72</td>\n",
       "      <td>44</td>\n",
       "      <td>77</td>\n",
       "      <td>22</td>\n",
       "      <td>48</td>\n",
       "      <td>12</td>\n",
       "      <td>42</td>\n",
       "      <td>34</td>\n",
       "      <td>39</td>\n",
       "    </tr>\n",
       "  </tbody>\n",
       "</table>\n",
       "</div>"
      ],
      "text/plain": [
       "   Sub-1  Sub-2  Sub-3  Sub-4  Sub-5  Sub-6  Sub-7  Sub-8  Sub-9  Sub-10\n",
       "0     53     54     40     70     24     72      5     36     57      49\n",
       "1     32     36     47     17     50     31     38     13     10      23\n",
       "2     60     13     19     36     44     58     49     42     62      69\n",
       "3     26     53     48     39     38     17     55     48     16      37\n",
       "4     59     72     44     77     22     48     12     42     34      39"
      ]
     },
     "execution_count": 52,
     "metadata": {},
     "output_type": "execute_result"
    }
   ],
   "source": [
    "df.head()"
   ]
  },
  {
   "cell_type": "code",
   "execution_count": 53,
   "id": "0b3d7ad7-91ed-4d53-a94a-88e19c2e9390",
   "metadata": {},
   "outputs": [],
   "source": [
    "result = np.random.randint(0,2,10000)"
   ]
  },
  {
   "cell_type": "code",
   "execution_count": 54,
   "id": "8bfbbf3a-a1cb-40bb-b278-a5cddeccacc7",
   "metadata": {},
   "outputs": [],
   "source": [
    "df['result'] = result"
   ]
  },
  {
   "cell_type": "code",
   "execution_count": 55,
   "id": "ad73afb6-2fca-4894-903f-1a8a18b7b2f0",
   "metadata": {},
   "outputs": [
    {
     "data": {
      "text/html": [
       "<div>\n",
       "<style scoped>\n",
       "    .dataframe tbody tr th:only-of-type {\n",
       "        vertical-align: middle;\n",
       "    }\n",
       "\n",
       "    .dataframe tbody tr th {\n",
       "        vertical-align: top;\n",
       "    }\n",
       "\n",
       "    .dataframe thead th {\n",
       "        text-align: right;\n",
       "    }\n",
       "</style>\n",
       "<table border=\"1\" class=\"dataframe\">\n",
       "  <thead>\n",
       "    <tr style=\"text-align: right;\">\n",
       "      <th></th>\n",
       "      <th>Sub-1</th>\n",
       "      <th>Sub-2</th>\n",
       "      <th>Sub-3</th>\n",
       "      <th>Sub-4</th>\n",
       "      <th>Sub-5</th>\n",
       "      <th>Sub-6</th>\n",
       "      <th>Sub-7</th>\n",
       "      <th>Sub-8</th>\n",
       "      <th>Sub-9</th>\n",
       "      <th>Sub-10</th>\n",
       "      <th>result</th>\n",
       "    </tr>\n",
       "  </thead>\n",
       "  <tbody>\n",
       "    <tr>\n",
       "      <th>0</th>\n",
       "      <td>53</td>\n",
       "      <td>54</td>\n",
       "      <td>40</td>\n",
       "      <td>70</td>\n",
       "      <td>24</td>\n",
       "      <td>72</td>\n",
       "      <td>5</td>\n",
       "      <td>36</td>\n",
       "      <td>57</td>\n",
       "      <td>49</td>\n",
       "      <td>1</td>\n",
       "    </tr>\n",
       "    <tr>\n",
       "      <th>1</th>\n",
       "      <td>32</td>\n",
       "      <td>36</td>\n",
       "      <td>47</td>\n",
       "      <td>17</td>\n",
       "      <td>50</td>\n",
       "      <td>31</td>\n",
       "      <td>38</td>\n",
       "      <td>13</td>\n",
       "      <td>10</td>\n",
       "      <td>23</td>\n",
       "      <td>1</td>\n",
       "    </tr>\n",
       "    <tr>\n",
       "      <th>2</th>\n",
       "      <td>60</td>\n",
       "      <td>13</td>\n",
       "      <td>19</td>\n",
       "      <td>36</td>\n",
       "      <td>44</td>\n",
       "      <td>58</td>\n",
       "      <td>49</td>\n",
       "      <td>42</td>\n",
       "      <td>62</td>\n",
       "      <td>69</td>\n",
       "      <td>0</td>\n",
       "    </tr>\n",
       "    <tr>\n",
       "      <th>3</th>\n",
       "      <td>26</td>\n",
       "      <td>53</td>\n",
       "      <td>48</td>\n",
       "      <td>39</td>\n",
       "      <td>38</td>\n",
       "      <td>17</td>\n",
       "      <td>55</td>\n",
       "      <td>48</td>\n",
       "      <td>16</td>\n",
       "      <td>37</td>\n",
       "      <td>0</td>\n",
       "    </tr>\n",
       "    <tr>\n",
       "      <th>4</th>\n",
       "      <td>59</td>\n",
       "      <td>72</td>\n",
       "      <td>44</td>\n",
       "      <td>77</td>\n",
       "      <td>22</td>\n",
       "      <td>48</td>\n",
       "      <td>12</td>\n",
       "      <td>42</td>\n",
       "      <td>34</td>\n",
       "      <td>39</td>\n",
       "      <td>1</td>\n",
       "    </tr>\n",
       "  </tbody>\n",
       "</table>\n",
       "</div>"
      ],
      "text/plain": [
       "   Sub-1  Sub-2  Sub-3  Sub-4  Sub-5  Sub-6  Sub-7  Sub-8  Sub-9  Sub-10  \\\n",
       "0     53     54     40     70     24     72      5     36     57      49   \n",
       "1     32     36     47     17     50     31     38     13     10      23   \n",
       "2     60     13     19     36     44     58     49     42     62      69   \n",
       "3     26     53     48     39     38     17     55     48     16      37   \n",
       "4     59     72     44     77     22     48     12     42     34      39   \n",
       "\n",
       "   result  \n",
       "0       1  \n",
       "1       1  \n",
       "2       0  \n",
       "3       0  \n",
       "4       1  "
      ]
     },
     "execution_count": 55,
     "metadata": {},
     "output_type": "execute_result"
    }
   ],
   "source": [
    "df.head()"
   ]
  },
  {
   "cell_type": "code",
   "execution_count": 56,
   "id": "b83c8575-a2e7-4e8b-89c7-cc6a1fed1171",
   "metadata": {},
   "outputs": [
    {
     "data": {
      "text/plain": [
       "result\n",
       "1    5019\n",
       "0    4981\n",
       "Name: count, dtype: int64"
      ]
     },
     "execution_count": 56,
     "metadata": {},
     "output_type": "execute_result"
    }
   ],
   "source": [
    "df['result'].value_counts()"
   ]
  },
  {
   "cell_type": "code",
   "execution_count": 57,
   "id": "c2eb9354-9ab3-4e92-8468-524d724eadd1",
   "metadata": {},
   "outputs": [
    {
     "data": {
      "text/plain": [
       "<function matplotlib.pyplot.show(close=None, block=None)>"
      ]
     },
     "execution_count": 57,
     "metadata": {},
     "output_type": "execute_result"
    },
    {
     "data": {
      "image/png": "[encoded data removed]",
      "text/plain": [
       "<Figure size 1000x800 with 12 Axes>"
      ]
     },
     "metadata": {},
     "output_type": "display_data"
    }
   ],
   "source": [
    "df.hist(figsize=(10,8))\n",
    "plt.tight_layout()\n",
    "plt.show"
   ]
  },
  {
   "cell_type": "code",
   "execution_count": 58,
   "id": "c7c57e69-88d5-49b8-b47d-c171a485e055",
   "metadata": {},
   "outputs": [],
   "source": [
    "#splitting data\n",
    "X = df.iloc[:,:10].values\n",
    "Y = df.iloc[:,-1].values"
   ]
  },
  {
   "cell_type": "code",
   "execution_count": 59,
   "id": "ad9b35ad-9981-4707-b4a6-64150a3958a6",
   "metadata": {},
   "outputs": [],
   "source": [
    "xTrain, xTest = X[:8000, :].T, X[8000:, :].T\n",
    "yTrain, yTest = Y[:8000], Y[8000:]"
   ]
  },
  {
   "cell_type": "code",
   "execution_count": 60,
   "id": "c9aff65f-969c-448e-86b1-97d879dbcb57",
   "metadata": {},
   "outputs": [],
   "source": [
    "m,n = xTrain.shape"
   ]
  },
  {
   "cell_type": "code",
   "execution_count": 61,
   "id": "16e534a1-5cb0-48b4-b57d-5b2a28985c7a",
   "metadata": {},
   "outputs": [
    {
     "data": {
      "text/plain": [
       "8000"
      ]
     },
     "execution_count": 61,
     "metadata": {},
     "output_type": "execute_result"
    }
   ],
   "source": [
    "n"
   ]
  },
  {
   "cell_type": "code",
   "execution_count": 62,
   "id": "1c451c8e-c35e-413b-a846-3f46cbc197ab",
   "metadata": {},
   "outputs": [
    {
     "data": {
      "text/plain": [
       "10"
      ]
     },
     "execution_count": 62,
     "metadata": {},
     "output_type": "execute_result"
    }
   ],
   "source": [
    "m"
   ]
  },
  {
   "cell_type": "code",
   "execution_count": 63,
   "id": "530497f5-499d-48b0-8310-4d8c413f0e52",
   "metadata": {},
   "outputs": [
    {
     "data": {
      "text/plain": [
       "(8000,)"
      ]
     },
     "execution_count": 63,
     "metadata": {},
     "output_type": "execute_result"
    }
   ],
   "source": [
    "yTrain.shape"
   ]
  },
  {
   "cell_type": "code",
   "execution_count": 64,
   "id": "0c96d961-7e56-41b4-aa28-11566b438c80",
   "metadata": {},
   "outputs": [],
   "source": [
    "#uniform distribution\n",
    "def init_params():\n",
    "    W1 = np.random.uniform(low=-.05, high=.05, size=(10, 10)) #yaha kuch change karo taki A2 thik ho jaye\n",
    "    b1 = np.random.uniform(low=-.05, high=.05, size=(10, 1)) \n",
    "    W2 = np.random.uniform(low=-.05, high=.05, size=(10, 10)) \n",
    "    b2 = np.random.uniform(low=-.05, high=.05, size=(10, 1)) \n",
    "    return W1, b1, W2, b2\n",
    "W1, b1, W2, b2 = init_params()"
   ]
  },
  {
   "cell_type": "code",
   "execution_count": 65,
   "id": "1f0eefa7-3308-4f04-b6d8-df63f58b865a",
   "metadata": {},
   "outputs": [
    {
     "data": {
      "text/plain": [
       "array([[-2.30457366e-02, -2.85252430e-02,  1.33563956e-03,\n",
       "        -1.79190706e-02,  3.21435185e-02, -4.33465812e-02,\n",
       "         5.27649328e-03,  1.23540830e-02,  4.55671477e-02,\n",
       "        -4.12803073e-02],\n",
       "       [-1.14657559e-02,  1.21389882e-02, -2.59531644e-02,\n",
       "         1.98232221e-02,  9.02249108e-03,  1.29252711e-02,\n",
       "        -4.24305907e-03, -4.49831969e-02, -7.15630796e-03,\n",
       "        -4.94891140e-02],\n",
       "       [ 4.45302262e-02, -2.92455689e-02, -2.17811954e-02,\n",
       "        -4.39206383e-02, -4.29137956e-02, -2.86642363e-02,\n",
       "        -4.57365630e-02,  3.80931355e-02,  1.45970716e-02,\n",
       "        -1.34722984e-02],\n",
       "       [ 2.82075099e-02,  2.73245211e-03,  2.32626626e-02,\n",
       "         1.04444363e-02,  7.56398667e-03, -2.80875793e-02,\n",
       "         5.40168905e-03,  1.07414114e-02, -2.69664433e-02,\n",
       "         4.10340420e-02],\n",
       "       [ 4.91609006e-02,  2.41095853e-02,  2.05140829e-02,\n",
       "        -3.97048814e-02, -1.12061366e-02,  1.73048564e-02,\n",
       "         6.16508478e-04, -4.84852133e-02, -2.33330446e-02,\n",
       "        -4.30351515e-02],\n",
       "       [ 4.83058369e-02,  7.89343230e-03,  3.79517929e-03,\n",
       "        -2.57143325e-02,  4.88172388e-02,  2.99179761e-02,\n",
       "        -2.50697986e-02, -4.66323213e-02, -3.19648583e-02,\n",
       "         1.84687659e-02],\n",
       "       [ 4.58213692e-02,  3.70812275e-02, -1.32354126e-02,\n",
       "         2.66759171e-02,  8.92683639e-04,  3.48588015e-02,\n",
       "        -1.29875740e-02, -2.77149783e-02, -2.40922007e-02,\n",
       "        -1.59132782e-02],\n",
       "       [-2.71359283e-02, -8.56402835e-03, -3.32906428e-02,\n",
       "         3.13443398e-02,  2.74572431e-02, -4.81448885e-04,\n",
       "        -9.96573272e-03,  4.19832913e-02,  9.42253616e-03,\n",
       "        -1.15645067e-02],\n",
       "       [-5.40437065e-03,  1.86912127e-03, -3.83639380e-02,\n",
       "         3.30282198e-02,  1.49480388e-02, -2.21004265e-02,\n",
       "         2.41085182e-02,  3.73692122e-02, -3.61502907e-02,\n",
       "        -2.01067374e-02],\n",
       "       [-4.06220368e-02,  1.08050779e-02, -1.48851244e-02,\n",
       "        -4.11773634e-02,  3.81877928e-02, -4.62602471e-02,\n",
       "         3.84767572e-02, -2.83608261e-02,  1.40967497e-02,\n",
       "        -2.65476168e-06]])"
      ]
     },
     "execution_count": 65,
     "metadata": {},
     "output_type": "execute_result"
    }
   ],
   "source": [
    "W1"
   ]
  },
  {
   "cell_type": "code",
   "execution_count": 66,
   "id": "3d4f11ba-273f-4736-9f02-017a4ecfcd85",
   "metadata": {},
   "outputs": [],
   "source": [
    "def sigmoid(Z):\n",
    "    ''' It returns 1/(1+exp(-x)). where the values lies between zero and one '''\n",
    "    return 1/(1+np.exp(-Z))\n",
    "\n",
    "def sigmoid_derivative(Z):\n",
    "    return sigmoid(Z)*(1-sigmoid(Z))\n",
    "\n",
    "\n",
    "def ReLU(Z):\n",
    "    return np.maximum(Z, 0)\n",
    "\n",
    "def softmax(Z):\n",
    "    A = np.exp(Z) / sum(np.exp(Z))\n",
    "    return A"
   ]
  },
  {
   "cell_type": "code",
   "execution_count": 67,
   "id": "2e6e4fb3-cab4-4c40-bbc4-13029092dc76",
   "metadata": {},
   "outputs": [],
   "source": [
    "def ReLU_deriv(Z):\n",
    "    return Z > 0"
   ]
  },
  {
   "cell_type": "code",
   "execution_count": 68,
   "id": "e0dcb0b5-1f67-4158-a1b2-565585150950",
   "metadata": {},
   "outputs": [],
   "source": [
    "    \n",
    "def forward_prop(W1, b1, W2, b2, X):\n",
    "    Z1 = W1.dot(X) + b1\n",
    "    A1 = ReLU(Z1)\n",
    "    #A1 = sigmoid(Z1)\n",
    "    Z2 = W2.dot(A1) + b2\n",
    "    A2 = softmax(Z2)\n",
    "    A2\n",
    "    return Z1, A1, Z2, A2"
   ]
  },
  {
   "cell_type": "code",
   "execution_count": 69,
   "id": "0ff50d5f-a7c9-4268-a5ce-c4078d44e4be",
   "metadata": {},
   "outputs": [],
   "source": [
    "def one_hot(Y):\n",
    "    one_hot_Y = np.zeros((Y.size, Y.max() + 1))\n",
    "    one_hot_Y[np.arange(Y.size), Y] = 1\n",
    "    one_hot_Y = one_hot_Y.T\n",
    "    return one_hot_Y"
   ]
  },
  {
   "cell_type": "code",
   "execution_count": 70,
   "id": "7a7e69e7-e640-4f47-8717-d619f8263545",
   "metadata": {},
   "outputs": [],
   "source": [
    "q = one_hot(yTrain)"
   ]
  },
  {
   "cell_type": "code",
   "execution_count": 71,
   "id": "029a6d69-b1cf-47c0-a2cb-c63c54cee4b4",
   "metadata": {},
   "outputs": [
    {
     "data": {
      "text/plain": [
       "array([[0., 0., 1., ..., 0., 0., 0.],\n",
       "       [1., 1., 0., ..., 1., 1., 1.]])"
      ]
     },
     "execution_count": 71,
     "metadata": {},
     "output_type": "execute_result"
    }
   ],
   "source": [
    "q# iska shape gadbad hai"
   ]
  },
  {
   "cell_type": "code",
   "execution_count": 72,
   "id": "30fa65aa-448c-4a01-a661-256d9f58502c",
   "metadata": {},
   "outputs": [],
   "source": [
    "def backward_prop(Z1, A1, Z2, A2, W1, W2, X, Y):\n",
    "    #one_hot_Y = one_hot(Y)\n",
    "    #dZ2 = A2 - one_hot_Y\n",
    "    dZ2 = A2 - Y\n",
    "    dW2 = 1 / m * dZ2.dot(A1.T)\n",
    "    db2 = 1 / m * np.sum(dZ2)\n",
    "    dZ1 = W2.T.dot(dZ2) * ReLU_deriv(Z1)\n",
    "    #dZ1 = W2.T.dot(dZ2) * sigmoid_derivative(Z1)\n",
    "    dW1 = 1 / m * dZ1.dot(X.T)\n",
    "    db1 = 1 / m * np.sum(dZ1)\n",
    "    return dW1, db1, dW2, db2"
   ]
  },
  {
   "cell_type": "code",
   "execution_count": 73,
   "id": "cc4526e3-cfe5-4162-8af5-b07c3bb71c3d",
   "metadata": {},
   "outputs": [],
   "source": [
    "\n",
    "def update_params(W1, b1, W2, b2, dW1, db1, dW2, db2, alpha):\n",
    "    W1 = W1 - alpha * dW1\n",
    "    b1 = b1 - alpha * db1    \n",
    "    W2 = W2 - alpha * dW2  \n",
    "    b2 = b2 - alpha * db2    \n",
    "    return W1, b1, W2, b2"
   ]
  },
  {
   "cell_type": "code",
   "execution_count": 74,
   "id": "6f95bf46-5920-4449-8038-c552d425ff10",
   "metadata": {},
   "outputs": [],
   "source": [
    "def get_predictions(A2):\n",
    "    return np.argmax(A2, 0)\n",
    "\n",
    "def get_accuracy(predictions, Y):\n",
    "    #print(predictions, Y)\n",
    "    return np.sum(predictions == Y) / Y.size"
   ]
  },
  {
   "cell_type": "code",
   "execution_count": 75,
   "id": "b6f667ce-36cd-4847-a987-1fae9f89a3f7",
   "metadata": {},
   "outputs": [],
   "source": [
    "def costFunction(y, A):\n",
    "    m = y.shape[1]\n",
    "    cost = 1./m * (-np.dot(y, np.log(A).T) - np.dot((1 - y), np.log(1 - A).T))\n",
    "    return np.squeeze(cost)"
   ]
  },
  {
   "cell_type": "code",
   "execution_count": 95,
   "id": "43ef7b74-4026-4fe8-ae14-e53d6242d466",
   "metadata": {},
   "outputs": [],
   "source": [
    "def compute_cost(AL, Y):\n",
    "    #m = Y.shape[1]\n",
    "    \n",
    "    if Y.shape[0] == 1:\n",
    "        cost = (1./8000) * (-np.dot(Y,np.log(AL).T) - np.dot(1-Y, np.log(1-AL).T))\n",
    "    else:\n",
    "        cost = -(1./8000) * np.sum(Y * np.log(AL))\n",
    "        \n",
    "    cost = np.squeeze(cost)      # To make sure your cost's shape is what we expect (e.g. this turns [[17]] into 17).\n",
    "    \n",
    "    return cost"
   ]
  },
  {
   "cell_type": "code",
   "execution_count": 106,
   "id": "b8121e83-f3f5-4745-ba4c-0e61d9fd660f",
   "metadata": {},
   "outputs": [],
   "source": [
    "def gradient_descent(X, Y, alpha, iterations):\n",
    "    Accu=[]\n",
    "    cost = []\n",
    "    W1, b1, W2, b2 = init_params()\n",
    "    for i in range(iterations):\n",
    "        Z1, A1, Z2, A2 = forward_prop(W1, b1, W2, b2, X)\n",
    "        c = compute_cost(A2, Y)\n",
    "        dW1, db1, dW2, db2 = backward_prop(Z1, A1, Z2, A2, W1, W2, X, Y)\n",
    "        W1, b1, W2, b2 = update_params(W1, b1, W2, b2, dW1, db1, dW2, db2, alpha)\n",
    "        if i % 10 == 0:\n",
    "            print(\"Iteration: \", i)\n",
    "            predictions = get_predictions(A2)\n",
    "            #c = compute_cost(A2, Y)\n",
    "            cost.append(c)\n",
    "            temp=get_accuracy(predictions, Y)\n",
    "            temp1=float(temp)\n",
    "            Accu.append(temp1)\n",
    "            print(temp)\n",
    "            print(cost)\n",
    "    return W1, b1, W2, b2, Accu, alpha, predictions"
   ]
  },
  {
   "cell_type": "code",
   "execution_count": 107,
   "id": "eae7b559-4db0-44f3-897f-5a2ba1bca162",
   "metadata": {},
   "outputs": [
    {
     "name": "stdout",
     "output_type": "stream",
     "text": [
      "Iteration:  0\n",
      "0.0065\n",
      "[np.float64(11.65119143363453)]\n"
     ]
    },
    {
     "name": "stderr",
     "output_type": "stream",
     "text": [
      "C:\\Users\\himan\\AppData\\Local\\Temp\\ipykernel_116976\\3566568841.py:13: RuntimeWarning: overflow encountered in exp\n",
      "  A = np.exp(Z) / sum(np.exp(Z))\n",
      "C:\\Users\\himan\\AppData\\Local\\Temp\\ipykernel_116976\\3566568841.py:13: RuntimeWarning: invalid value encountered in divide\n",
      "  A = np.exp(Z) / sum(np.exp(Z))\n"
     ]
    },
    {
     "name": "stdout",
     "output_type": "stream",
     "text": [
      "Iteration:  10\n",
      "0.49675\n",
      "[np.float64(11.65119143363453), np.float64(nan)]\n",
      "Iteration:  20\n",
      "0.49675\n",
      "[np.float64(11.65119143363453), np.float64(nan), np.float64(nan)]\n",
      "Iteration:  30\n",
      "0.49675\n",
      "[np.float64(11.65119143363453), np.float64(nan), np.float64(nan), np.float64(nan)]\n",
      "Iteration:  40\n",
      "0.49675\n",
      "[np.float64(11.65119143363453), np.float64(nan), np.float64(nan), np.float64(nan), np.float64(nan)]\n"
     ]
    }
   ],
   "source": [
    "W1, b1, W2, b2, Accu, Alph, predictions = gradient_descent(xTrain, yTrain, 0.10, 50)"
   ]
  },
  {
   "cell_type": "code",
   "execution_count": 83,
   "id": "6381b2a1-5bb6-462e-ba54-ec5582a34fec",
   "metadata": {},
   "outputs": [
    {
     "data": {
      "text/plain": [
       "array([0, 0, 0, ..., 0, 0, 0])"
      ]
     },
     "execution_count": 83,
     "metadata": {},
     "output_type": "execute_result"
    }
   ],
   "source": [
    "predictions"
   ]
  },
  {
   "cell_type": "code",
   "execution_count": 84,
   "id": "a8d48c63-fc43-43aa-8bd3-bfaebf4dade4",
   "metadata": {},
   "outputs": [
    {
     "data": {
      "text/plain": [
       "(8000,)"
      ]
     },
     "execution_count": 84,
     "metadata": {},
     "output_type": "execute_result"
    }
   ],
   "source": [
    "predictions.shape"
   ]
  },
  {
   "cell_type": "code",
   "execution_count": 85,
   "id": "15d9c6c3-07fa-4489-a8be-b3907ca75c1f",
   "metadata": {},
   "outputs": [
    {
     "data": {
      "text/plain": [
       "(8000,)"
      ]
     },
     "execution_count": 85,
     "metadata": {},
     "output_type": "execute_result"
    }
   ],
   "source": [
    "yTrain.shape"
   ]
  },
  {
   "cell_type": "code",
   "execution_count": 86,
   "id": "3b94cd50-91b7-43fc-be1c-1e125d688469",
   "metadata": {},
   "outputs": [
    {
     "name": "stdout",
     "output_type": "stream",
     "text": [
      "Accuracy: 0.49675\n"
     ]
    }
   ],
   "source": [
    "def accuracy(y_true, y_pred):\n",
    "    accuracy = np.sum(y_true == y_pred) / len(y_true)\n",
    "    return accuracy\n",
    "\n",
    "# Calculate accuracy\n",
    "accuracy_value = accuracy(yTrain, predictions)\n",
    "print(\"Accuracy:\", accuracy_value)"
   ]
  },
  {
   "cell_type": "code",
   "execution_count": 87,
   "id": "17e27d02-2b98-4ba0-b955-7bcb64701cf8",
   "metadata": {},
   "outputs": [
    {
     "data": {
      "text/plain": [
       "[0.04875,\n",
       " 0.49675,\n",
       " 0.49675,\n",
       " 0.49675,\n",
       " 0.49675,\n",
       " 0.49675,\n",
       " 0.49675,\n",
       " 0.49675,\n",
       " 0.49675,\n",
       " 0.49675,\n",
       " 0.49675,\n",
       " 0.49675,\n",
       " 0.49675,\n",
       " 0.49675,\n",
       " 0.49675,\n",
       " 0.49675,\n",
       " 0.49675,\n",
       " 0.49675,\n",
       " 0.49675,\n",
       " 0.49675,\n",
       " 0.49675,\n",
       " 0.49675,\n",
       " 0.49675,\n",
       " 0.49675,\n",
       " 0.49675,\n",
       " 0.49675,\n",
       " 0.49675,\n",
       " 0.49675,\n",
       " 0.49675,\n",
       " 0.49675,\n",
       " 0.49675,\n",
       " 0.49675,\n",
       " 0.49675,\n",
       " 0.49675,\n",
       " 0.49675,\n",
       " 0.49675,\n",
       " 0.49675,\n",
       " 0.49675,\n",
       " 0.49675,\n",
       " 0.49675,\n",
       " 0.49675,\n",
       " 0.49675,\n",
       " 0.49675,\n",
       " 0.49675,\n",
       " 0.49675,\n",
       " 0.49675,\n",
       " 0.49675,\n",
       " 0.49675,\n",
       " 0.49675,\n",
       " 0.49675]"
      ]
     },
     "execution_count": 87,
     "metadata": {},
     "output_type": "execute_result"
    }
   ],
   "source": [
    "Accu"
   ]
  },
  {
   "cell_type": "code",
   "execution_count": 88,
   "id": "e0acdeb0-4ec9-4fb6-90b3-1ac4e9e80598",
   "metadata": {},
   "outputs": [
    {
     "data": {
      "text/plain": [
       "0.1"
      ]
     },
     "execution_count": 88,
     "metadata": {},
     "output_type": "execute_result"
    }
   ],
   "source": [
    "Alph"
   ]
  },
  {
   "cell_type": "code",
   "execution_count": null,
   "id": "d200942c-d1a9-4b12-9b10-fed5ba9942f4",
   "metadata": {},
   "outputs": [],
   "source": []
  }
 ],
 "metadata": {
  "kernelspec": {
   "display_name": "Python 3 (ipykernel)",
   "language": "python",
   "name": "python3"
  },
  "language_info": {
   "codemirror_mode": {
    "name": "ipython",
    "version": 3
   },
   "file_extension": ".py",
   "mimetype": "text/x-python",
   "name": "python",
   "nbconvert_exporter": "python",
   "pygments_lexer": "ipython3",
   "version": "3.12.4"
  }
 },
 "nbformat": 4,
 "nbformat_minor": 5
}
